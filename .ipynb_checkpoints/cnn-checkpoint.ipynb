{
 "cells": [
  {
   "cell_type": "code",
   "execution_count": 1,
   "metadata": {},
   "outputs": [],
   "source": [
    "import numpy as np"
   ]
  },
  {
   "cell_type": "code",
   "execution_count": 2,
   "metadata": {},
   "outputs": [],
   "source": [
    "import os\n",
    "os.environ[\"MKL_THREADING_LAYER\"] = \"GNU\""
   ]
  },
  {
   "cell_type": "code",
   "execution_count": 3,
   "metadata": {},
   "outputs": [
    {
     "name": "stderr",
     "output_type": "stream",
     "text": [
      "Using TensorFlow backend.\n"
     ]
    }
   ],
   "source": [
    "from keras.utils import np_utils"
   ]
  },
  {
   "cell_type": "code",
   "execution_count": 4,
   "metadata": {},
   "outputs": [],
   "source": [
    "import keras.preprocessing.sequence as sq"
   ]
  },
  {
   "cell_type": "code",
   "execution_count": 5,
   "metadata": {},
   "outputs": [],
   "source": [
    "npzdata=np.load(\"data.npz\")"
   ]
  },
  {
   "cell_type": "code",
   "execution_count": 6,
   "metadata": {},
   "outputs": [
    {
     "data": {
      "text/plain": [
       "<numpy.lib.npyio.NpzFile at 0x11c80bf10>"
      ]
     },
     "execution_count": 6,
     "metadata": {},
     "output_type": "execute_result"
    }
   ],
   "source": [
    "npzdata"
   ]
  },
  {
   "cell_type": "code",
   "execution_count": 7,
   "metadata": {},
   "outputs": [],
   "source": [
    "data=npzdata['data']\n",
    "labels=npzdata['labels']"
   ]
  },
  {
   "cell_type": "code",
   "execution_count": 8,
   "metadata": {},
   "outputs": [
    {
     "name": "stdout",
     "output_type": "stream",
     "text": [
      "[[ 1  1 -1 ..., -1 -1 -1]\n",
      " [ 1  1 -1 ..., -1 -1 -1]\n",
      " [ 1  1 -1 ..., -1 -1 -1]\n",
      " ..., \n",
      " [ 0  0  0 ...,  0  0  0]\n",
      " [ 0  0  0 ...,  0  0  0]\n",
      " [ 0  0  0 ...,  0  0  0]]\n"
     ]
    },
    {
     "data": {
      "text/plain": [
       "249996"
      ]
     },
     "execution_count": 8,
     "metadata": {},
     "output_type": "execute_result"
    }
   ],
   "source": [
    "print(data)\n",
    "len(data)"
   ]
  },
  {
   "cell_type": "code",
   "execution_count": 9,
   "metadata": {},
   "outputs": [
    {
     "data": {
      "text/plain": [
       "(249996, 5000)"
      ]
     },
     "execution_count": 9,
     "metadata": {},
     "output_type": "execute_result"
    }
   ],
   "source": [
    "data.shape"
   ]
  },
  {
   "cell_type": "code",
   "execution_count": 10,
   "metadata": {},
   "outputs": [],
   "source": [
    "maxlen=3000"
   ]
  },
  {
   "cell_type": "code",
   "execution_count": 11,
   "metadata": {},
   "outputs": [],
   "source": [
    "data=sq.pad_sequences(data,maxlen=maxlen,padding='post',truncating='post',dtype='float64')"
   ]
  },
  {
   "cell_type": "code",
   "execution_count": 12,
   "metadata": {},
   "outputs": [],
   "source": [
    "data = data.reshape(data.shape[0], data.shape[1], 1)"
   ]
  },
  {
   "cell_type": "code",
   "execution_count": 13,
   "metadata": {},
   "outputs": [],
   "source": [
    "dict_label={}\n",
    "n=0\n",
    "set_labels=list(set(labels))"
   ]
  },
  {
   "cell_type": "code",
   "execution_count": 14,
   "metadata": {},
   "outputs": [],
   "source": [
    "for l in set_labels:\n",
    "    dict_label[l]=n\n",
    "    n+=1"
   ]
  },
  {
   "cell_type": "code",
   "execution_count": 15,
   "metadata": {},
   "outputs": [
    {
     "data": {
      "text/plain": [
       "{None: 99,\n",
       " u'9gag.com': 76,\n",
       " u'abs-cbn.com': 98,\n",
       " u'adf.ly': 69,\n",
       " u'adobe.com': 39,\n",
       " u'aliexpress.com': 22,\n",
       " u'allegro.pl': 82,\n",
       " u'amazon.com': 49,\n",
       " u'amazonaws.com': 61,\n",
       " u'aol.com': 71,\n",
       " u'apple.com': 68,\n",
       " u'archive.org': 9,\n",
       " u'askcom.me': 70,\n",
       " u'battle.net': 95,\n",
       " u'blastingnews.com': 7,\n",
       " u'booking.com': 56,\n",
       " u'breitbart.com': 75,\n",
       " u'bukalapak.com': 21,\n",
       " u'businessinsider.com': 47,\n",
       " u'conservativetribune.com': 55,\n",
       " u'dailymail.co.uk': 60,\n",
       " u'dailymotion.com': 29,\n",
       " u'detik.com': 58,\n",
       " u'deviantart.com': 81,\n",
       " u'dictionary.com': 27,\n",
       " u'digikala.com': 35,\n",
       " u'doubleclick.net': 25,\n",
       " u'doublepimp.com': 88,\n",
       " u'ebay.com': 48,\n",
       " u'espncricinfo.com': 5,\n",
       " u'exoclick.com': 54,\n",
       " u'extratorrent.cc': 63,\n",
       " u'facebook.com': 87,\n",
       " u'feedly.com': 32,\n",
       " u'gamepedia.com': 94,\n",
       " u'github.com': 15,\n",
       " u'go.com': 93,\n",
       " u'godaddy.com': 92,\n",
       " u'goodreads.com': 80,\n",
       " u'google.com': 97,\n",
       " u'hclips.com': 28,\n",
       " u'hola.com': 24,\n",
       " u'hotmovs.com': 77,\n",
       " u'imdb.com': 96,\n",
       " u'instructure.com': 79,\n",
       " u'intuit.com': 37,\n",
       " u'kompas.com': 6,\n",
       " u'leboncoin.fr': 38,\n",
       " u'liputan6.com': 85,\n",
       " u'livejasmin.com': 53,\n",
       " u'livejournal.com': 90,\n",
       " u'ltn.com.tw': 14,\n",
       " u'microsoftonline.com': 57,\n",
       " u'mozilla.org': 33,\n",
       " u'msn.com': 44,\n",
       " u'naver.com': 16,\n",
       " u'netflix.com': 12,\n",
       " u'nicovideo.jp': 50,\n",
       " u'nih.gov': 84,\n",
       " u'ntd.tv': 89,\n",
       " u'office.com': 18,\n",
       " u'onedio.com': 34,\n",
       " u'openload.co': 46,\n",
       " u'oracle.com': 11,\n",
       " u'ouo.io': 19,\n",
       " u'outbrain.com': 74,\n",
       " u'pinterest.com': 36,\n",
       " u'popads.net': 17,\n",
       " u'quora.com': 0,\n",
       " u'researchgate.net': 91,\n",
       " u'roblox.com': 100,\n",
       " u'rt.com': 59,\n",
       " u'rutracker.org': 13,\n",
       " u'scribd.com': 86,\n",
       " u'skype.com': 20,\n",
       " u'soundcloud.com': 66,\n",
       " u'sourceforge.net': 65,\n",
       " u'spotify.com': 31,\n",
       " u'spotscenered.info': 83,\n",
       " u'stackexchange.com': 1,\n",
       " u'stackoverflow.com': 67,\n",
       " u'steamcommunity.com': 8,\n",
       " u'steampowered.com': 64,\n",
       " u't.co': 10,\n",
       " u'theguardian.com': 30,\n",
       " u'thesaurus.com': 73,\n",
       " u'tistory.com': 23,\n",
       " u'tokopedia.com': 62,\n",
       " u'torrentz2.eu': 45,\n",
       " u'tribunnews.com': 78,\n",
       " u'tumblr.com': 72,\n",
       " u'twitter.com': 41,\n",
       " u'weather.com': 52,\n",
       " u'wikia.com': 3,\n",
       " u'wikipedia.org': 2,\n",
       " u'wittyfeed.com': 42,\n",
       " u'xhamster.com': 40,\n",
       " u'xvideos.com': 51,\n",
       " u'yandex.ru': 4,\n",
       " u'yelp.com': 43,\n",
       " u'zippyshare.com': 26}"
      ]
     },
     "execution_count": 15,
     "metadata": {},
     "output_type": "execute_result"
    }
   ],
   "source": [
    "dict_label"
   ]
  },
  {
   "cell_type": "code",
   "execution_count": 16,
   "metadata": {},
   "outputs": [],
   "source": [
    "labels_new=[]\n",
    "for l in labels:\n",
    "    labels_new.append(dict_label[l])"
   ]
  },
  {
   "cell_type": "code",
   "execution_count": 17,
   "metadata": {},
   "outputs": [
    {
     "data": {
      "text/plain": [
       "array([[ 0.,  0.,  0., ...,  0.,  0.,  0.],\n",
       "       [ 0.,  0.,  0., ...,  0.,  0.,  0.],\n",
       "       [ 0.,  0.,  0., ...,  0.,  0.,  0.],\n",
       "       ..., \n",
       "       [ 0.,  0.,  0., ...,  0.,  1.,  0.],\n",
       "       [ 0.,  0.,  0., ...,  0.,  1.,  0.],\n",
       "       [ 0.,  0.,  0., ...,  0.,  1.,  0.]])"
      ]
     },
     "execution_count": 17,
     "metadata": {},
     "output_type": "execute_result"
    }
   ],
   "source": [
    "label_1=np_utils.to_categorical(labels_new)\n",
    "label_1"
   ]
  },
  {
   "cell_type": "code",
   "execution_count": 18,
   "metadata": {},
   "outputs": [],
   "source": [
    "def generateData(data,labels,batch_size=32):\n",
    "    nb_instances = data.shape[0]\n",
    "    nb_classes = labels.shape[1]\n",
    "    sample_shape = data[0].shape\n",
    "    batch_data_shape = tuple([batch_size] + list(sample_shape))\n",
    "    batch_label_shape = (batch_size, nb_classes)\n",
    "    print(batch_data_shape)\n",
    "    print(batch_label_shape)\n",
    "    # Infinite loop\n",
    "    while True:\n",
    "        # Generate an exploration order\n",
    "        indices = np.arange(nb_instances)\n",
    "        np.random.shuffle(indices)\n",
    "\n",
    "        # Generate batches\n",
    "        imax = int(len(indices) / batch_size)\n",
    "        for i in range(imax):\n",
    "            # Form a batch\n",
    "            x = np.empty(batch_data_shape)\n",
    "            y = np.empty(batch_label_shape)\n",
    "            for j, k in enumerate(indices[i * batch_size: (i + 1) * batch_size]):\n",
    "                x[j] = data[k]\n",
    "                y[j] = labels[k]\n",
    "            if x.shape != batch_data_shape:\n",
    "                print(x.shape)\n",
    "                exit(0)\n",
    "            yield x, y"
   ]
  },
  {
   "cell_type": "code",
   "execution_count": 19,
   "metadata": {},
   "outputs": [],
   "source": [
    "temp=generateData(data,label_1)"
   ]
  },
  {
   "cell_type": "code",
   "execution_count": 20,
   "metadata": {},
   "outputs": [],
   "source": [
    "from keras.models import Sequential\n",
    "from keras.layers.core import Dense, Dropout\n",
    "from keras.layers import Conv1D, MaxPooling1D\n",
    "from keras.layers.recurrent import LSTM\n",
    "from keras.layers import Input"
   ]
  },
  {
   "cell_type": "code",
   "execution_count": 21,
   "metadata": {},
   "outputs": [],
   "source": [
    "model=Sequential()"
   ]
  },
  {
   "cell_type": "code",
   "execution_count": 22,
   "metadata": {},
   "outputs": [],
   "source": [
    "input_length=maxlen\n",
    "input_dim=1"
   ]
  },
  {
   "cell_type": "code",
   "execution_count": 23,
   "metadata": {},
   "outputs": [],
   "source": [
    "model.add(Dropout(input_shape=(maxlen, input_dim), rate=0.25))"
   ]
  },
  {
   "cell_type": "code",
   "execution_count": 24,
   "metadata": {},
   "outputs": [],
   "source": [
    "model.add(Conv1D(filters=32, kernel_size=5, padding='valid', activation='relu', strides=1))"
   ]
  },
  {
   "cell_type": "code",
   "execution_count": 25,
   "metadata": {},
   "outputs": [],
   "source": [
    "model.add(MaxPooling1D(pool_size=4, padding='valid'))"
   ]
  },
  {
   "cell_type": "code",
   "execution_count": 26,
   "metadata": {},
   "outputs": [],
   "source": [
    "model.add(Conv1D(filters=32, kernel_size=5, padding='valid', activation='relu', strides=1))"
   ]
  },
  {
   "cell_type": "code",
   "execution_count": 27,
   "metadata": {},
   "outputs": [],
   "source": [
    "model.add(MaxPooling1D(pool_size=4, padding='valid'))"
   ]
  },
  {
   "cell_type": "code",
   "execution_count": 28,
   "metadata": {},
   "outputs": [],
   "source": [
    "model.add(LSTM(128))"
   ]
  },
  {
   "cell_type": "code",
   "execution_count": 29,
   "metadata": {},
   "outputs": [],
   "source": [
    "nb_classes=label_1.shape[1]"
   ]
  },
  {
   "cell_type": "code",
   "execution_count": 30,
   "metadata": {},
   "outputs": [
    {
     "data": {
      "text/plain": [
       "101"
      ]
     },
     "execution_count": 30,
     "metadata": {},
     "output_type": "execute_result"
    }
   ],
   "source": [
    "nb_classes"
   ]
  },
  {
   "cell_type": "code",
   "execution_count": 31,
   "metadata": {},
   "outputs": [],
   "source": [
    "model.add(Dense(units=nb_classes, activation='softmax'))"
   ]
  },
  {
   "cell_type": "code",
   "execution_count": 32,
   "metadata": {},
   "outputs": [],
   "source": [
    "metrics=['accuracy']"
   ]
  },
  {
   "cell_type": "code",
   "execution_count": 33,
   "metadata": {},
   "outputs": [],
   "source": [
    "from keras.optimizers import RMSprop"
   ]
  },
  {
   "cell_type": "code",
   "execution_count": 34,
   "metadata": {},
   "outputs": [],
   "source": [
    "optimizer=RMSprop(lr=0.0008,decay=0.0)"
   ]
  },
  {
   "cell_type": "code",
   "execution_count": 35,
   "metadata": {},
   "outputs": [],
   "source": [
    "model.compile(loss=\"categorical_crossentropy\",optimizer=optimizer,metrics=metrics)"
   ]
  },
  {
   "cell_type": "code",
   "execution_count": 36,
   "metadata": {},
   "outputs": [
    {
     "name": "stdout",
     "output_type": "stream",
     "text": [
      "_________________________________________________________________\n",
      "Layer (type)                 Output Shape              Param #   \n",
      "=================================================================\n",
      "dropout_1 (Dropout)          (None, 3000, 1)           0         \n",
      "_________________________________________________________________\n",
      "conv1d_1 (Conv1D)            (None, 2996, 32)          192       \n",
      "_________________________________________________________________\n",
      "max_pooling1d_1 (MaxPooling1 (None, 749, 32)           0         \n",
      "_________________________________________________________________\n",
      "conv1d_2 (Conv1D)            (None, 745, 32)           5152      \n",
      "_________________________________________________________________\n",
      "max_pooling1d_2 (MaxPooling1 (None, 186, 32)           0         \n",
      "_________________________________________________________________\n",
      "lstm_1 (LSTM)                (None, 128)               82432     \n",
      "_________________________________________________________________\n",
      "dense_1 (Dense)              (None, 101)               13029     \n",
      "=================================================================\n",
      "Total params: 100,805\n",
      "Trainable params: 100,805\n",
      "Non-trainable params: 0\n",
      "_________________________________________________________________\n",
      "None\n"
     ]
    }
   ],
   "source": [
    "print model.summary()"
   ]
  },
  {
   "cell_type": "code",
   "execution_count": 37,
   "metadata": {},
   "outputs": [],
   "source": [
    "from sklearn import model_selection"
   ]
  },
  {
   "cell_type": "code",
   "execution_count": 38,
   "metadata": {},
   "outputs": [],
   "source": [
    "X_train, x_test, Y_train, y_test = model_selection.train_test_split(data, label_1, test_size=0.15)"
   ]
  },
  {
   "cell_type": "code",
   "execution_count": 39,
   "metadata": {},
   "outputs": [],
   "source": [
    "x_train, x_val, y_train, y_val = model_selection.train_test_split(X_train, Y_train, test_size=0.18)"
   ]
  },
  {
   "cell_type": "code",
   "execution_count": 40,
   "metadata": {},
   "outputs": [],
   "source": [
    "trainGen=generateData(x_train,y_train)"
   ]
  },
  {
   "cell_type": "code",
   "execution_count": 41,
   "metadata": {},
   "outputs": [],
   "source": [
    "valGen=generateData(x_val,y_val)"
   ]
  },
  {
   "cell_type": "code",
   "execution_count": 42,
   "metadata": {},
   "outputs": [],
   "source": [
    "testGen=generateData(x_test,y_test)"
   ]
  },
  {
   "cell_type": "code",
   "execution_count": 43,
   "metadata": {},
   "outputs": [
    {
     "name": "stdout",
     "output_type": "stream",
     "text": [
      "(32, 3000, 1)Epoch 1/5\n",
      "\n",
      "(32, 101)\n",
      "5444/5445 [============================>.] - ETA: 0s - loss: 2.1352 - acc: 0.4105(32, 3000, 1)\n",
      "(32, 101)\n",
      "5445/5445 [==============================] - 1221s 224ms/step - loss: 2.1351 - acc: 0.4105 - val_loss: 1.2871 - val_acc: 0.6240\n",
      "Epoch 2/5\n",
      "5445/5445 [==============================] - 1203s 221ms/step - loss: 1.0951 - acc: 0.6917 - val_loss: 0.9318 - val_acc: 0.7368\n",
      "Epoch 3/5\n",
      "5445/5445 [==============================] - 1202s 221ms/step - loss: 0.8106 - acc: 0.7746 - val_loss: 0.8497 - val_acc: 0.7647\n",
      "Epoch 4/5\n",
      "5445/5445 [==============================] - 1199s 220ms/step - loss: 0.6267 - acc: 0.8291 - val_loss: 0.7003 - val_acc: 0.8117\n",
      "Epoch 5/5\n",
      "5445/5445 [==============================] - 1225s 225ms/step - loss: 0.5100 - acc: 0.8663 - val_loss: 0.6542 - val_acc: 0.8270\n"
     ]
    }
   ],
   "source": [
    "history=model.fit_generator(generator=trainGen,steps_per_epoch=x_train.shape[0]//32,validation_data=valGen,validation_steps=x_val.shape[0]//32,epochs=5)"
   ]
  },
  {
   "cell_type": "code",
   "execution_count": 44,
   "metadata": {},
   "outputs": [],
   "source": [
    "import matplotlib.pyplot as plt"
   ]
  },
  {
   "cell_type": "code",
   "execution_count": 45,
   "metadata": {},
   "outputs": [
    {
     "data": {
      "image/png": "[encoded data removed]",
      "text/plain": [
       "<matplotlib.figure.Figure at 0x1afaac490>"
      ]
     },
     "metadata": {},
     "output_type": "display_data"
    }
   ],
   "source": [
    "plt.figure(figsize=(10, 7))\n",
    "plt.plot(history.history['loss'], label=\"Training\", color='purple')\n",
    "if history.history['val_loss'] is not None:\n",
    "    plt.ylim(0, 5)\n",
    "    plt.plot(history.history['val_loss'], label=\"Validation\", color='green')\n",
    "plt.title(\"Loss plot\", y=1.08)\n",
    "plt.legend(bbox_to_anchor=(0., 1.02, 1., .102), loc=3,\n",
    "           ncol=2, mode='expand', borderaxespad=0.)\n",
    "plt.yticks(np.arange(0, 5, 0.5))\n",
    "plt.xticks(np.arange(0, 5, 1))\n",
    "plt.ylabel('Loss')\n",
    "plt.xlabel('Epoch')\n",
    "\n",
    "plt.show()"
   ]
  },
  {
   "cell_type": "code",
   "execution_count": 46,
   "metadata": {},
   "outputs": [
    {
     "data": {
      "image/png": "[encoded data removed]",
      "text/plain": [
       "<matplotlib.figure.Figure at 0x1afaab090>"
      ]
     },
     "metadata": {},
     "output_type": "display_data"
    }
   ],
   "source": [
    "plt.figure(figsize=(10, 8))\n",
    "plt.ylim(0, 1)\n",
    "plt.plot(history.history['acc'], label=\"Training\", color='red')\n",
    "if history.history['val_acc'] is not None:\n",
    "    plt.plot(history.history['val_acc'], label=\"Validation\", color='blue')\n",
    "plt.title(\"accuracy plot\", y=1.08)\n",
    "plt.legend(bbox_to_anchor=(0., 1.02, 1., .102), loc=3,\n",
    "           ncol=2, mode='expand', borderaxespad=0.)\n",
    "plt.yticks(np.arange(0, 1, 0.05))\n",
    "plt.ylabel('Accuracy')\n",
    "plt.xlabel('Epoch')\n",
    "plt.show()"
   ]
  },
  {
   "cell_type": "code",
   "execution_count": 47,
   "metadata": {},
   "outputs": [
    {
     "name": "stdout",
     "output_type": "stream",
     "text": [
      "(32, 3000, 1)\n",
      "(32, 101)\n"
     ]
    }
   ],
   "source": [
    "steps = x_test.shape[0]//32\n",
    "scores = model.evaluate_generator(testGen, steps)\n",
    "predicted = model.predict_generator(testGen, steps)"
   ]
  },
  {
   "cell_type": "code",
   "execution_count": 48,
   "metadata": {},
   "outputs": [],
   "source": [
    "test_loss = round(scores[0], 4)\n",
    "test_acc = round(scores[1], 4)"
   ]
  },
  {
   "cell_type": "code",
   "execution_count": 49,
   "metadata": {},
   "outputs": [
    {
     "data": {
      "text/plain": [
       "0.6523"
      ]
     },
     "execution_count": 49,
     "metadata": {},
     "output_type": "execute_result"
    }
   ],
   "source": [
    "test_loss"
   ]
  },
  {
   "cell_type": "code",
   "execution_count": 50,
   "metadata": {},
   "outputs": [
    {
     "data": {
      "text/plain": [
       "0.8249"
      ]
     },
     "execution_count": 50,
     "metadata": {},
     "output_type": "execute_result"
    }
   ],
   "source": [
    "test_acc"
   ]
  }
 ],
 "metadata": {
  "kernelspec": {
   "display_name": "Python 2",
   "language": "python",
   "name": "python2"
  },
  "language_info": {
   "codemirror_mode": {
    "name": "ipython",
    "version": 2
   },
   "file_extension": ".py",
   "mimetype": "text/x-python",
   "name": "python",
   "nbconvert_exporter": "python",
   "pygments_lexer": "ipython2",
   "version": "2.7.13"
  }
 },
 "nbformat": 4,
 "nbformat_minor": 2
}
